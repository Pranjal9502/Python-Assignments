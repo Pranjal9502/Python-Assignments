{
 "cells": [
  {
   "cell_type": "code",
   "execution_count": 1,
   "metadata": {},
   "outputs": [
    {
     "name": "stdout",
     "output_type": "stream",
     "text": [
      "Hello\n"
     ]
    }
   ],
   "source": [
    "print(\"Hello\")"
   ]
  },
  {
   "cell_type": "code",
   "execution_count": 1,
   "metadata": {},
   "outputs": [
    {
     "name": "stdout",
     "output_type": "stream",
     "text": [
      "10   3.146   Hello\n",
      "Value of Pi is 3.14\n",
      "1   1   1\n",
      "1   2.5   john\n"
     ]
    }
   ],
   "source": [
    "#Variables\n",
    "# defining a variable : In Python there is no need to mention the data type\n",
    "\n",
    "var1 = 10      # An integer assignment\n",
    "var2 = 3.146   # A floating point\n",
    "var3 = \"Hello\" # A string\n",
    " \n",
    "print(var1,' ',var2,' ',var3)\n",
    "\n",
    "pi = 3.14\n",
    "print (\"Value of Pi is\",pi)\n",
    "\n",
    "# Assigning same value to multiple variables\n",
    "\n",
    "var1 = var2 = var3 = 1\n",
    "print(var1,' ',var2,' ',var3)\n",
    "\n",
    "# Assigning Different values to variable in a single expression\n",
    "\n",
    "var1, var2, var3 = 1, 2.5, \"john\"\n",
    "print(var1,' ',var2,' ',var3)\n"
   ]
  },
  {
   "cell_type": "code",
   "execution_count": 1,
   "metadata": {},
   "outputs": [
    {
     "name": "stdout",
     "output_type": "stream",
     "text": [
      "W\n",
      "Welcome to the projectWelcome to the project\n",
      "Welcome to the project Hi\n",
      "Length of s = 38\n",
      "The first occurrence of the letter a = 13\n",
      "a occurs 1 times\n",
      "The first five characters are 'Hey t'\n",
      "The next five characters are 'here!'\n",
      "The thirteenth character is 'h'\n",
      "The characters with odd index are 'e hr!wa hudti tigb?'\n",
      "The last five characters are 'g be?'\n",
      "String in uppercase: HEY THERE! WHAT SHOULD THIS STRING BE?\n",
      "String in lowercase: hey there! what should this string be?\n",
      "Split the words of the string: ['Hey', 'there!', 'what', 'should', 'this', 'string', 'be?']\n"
     ]
    }
   ],
   "source": [
    "#Strings:\n",
    "x=\"Welcome to the project\"\n",
    "\n",
    "# To access the first letter in the above string, we will write:\n",
    "\n",
    "print(x[0])\n",
    "print(x*2)\n",
    "print(x+\" Hi\")\n",
    "s = \"Hey there! what should this string be?\"\n",
    "# Length should be 20\n",
    "print(\"Length of s = %d\" % len(s))\n",
    "\n",
    "# First occurrence of \"a\" should be at index 8\n",
    "print(\"The first occurrence of the letter a = %d\" % s.index(\"a\"))\n",
    "\n",
    "# Number of a's should be 2\n",
    "print(\"a occurs %d times\" % s.count(\"a\"))\n",
    "\n",
    "# Slicing the string into bits\n",
    "print(\"The first five characters are '%s'\" % s[:5]) # Start to 5\n",
    "print(\"The next five characters are '%s'\" % s[5:10]) # 5 to 10\n",
    "print(\"The thirteenth character is '%s'\" % s[12]) # Just number 12\n",
    "print(\"The characters with odd index are '%s'\" %s[1::2]) #(0-based indexing)\n",
    "print(\"The last five characters are '%s'\" % s[-5:]) # 5th-from-last to end\n",
    "\n",
    "# Convert everything to uppercase\n",
    "print(\"String in uppercase: %s\" % s.upper())\n",
    "\n",
    "# Convert everything to lowercase\n",
    "print(\"String in lowercase: %s\" % s.lower())\n",
    "\n",
    "# Split the string into three separate strings,\n",
    "# each containing only a word\n",
    "print(\"Split the words of the string: %s\" % s.split(\" \"))"
   ]
  },
  {
   "cell_type": "code",
   "execution_count": 5,
   "metadata": {},
   "outputs": [
    {
     "name": "stdout",
     "output_type": "stream",
     "text": [
      "1\n",
      "2\n",
      "3\n",
      "1\n",
      "2\n",
      "3\n"
     ]
    }
   ],
   "source": [
    "#List:\n",
    "mylist = []\n",
    "mylist.append(1)\n",
    "mylist.append(2)\n",
    "mylist.append(3)\n",
    "print(mylist[0]) # prints 1\n",
    "print(mylist[1]) # prints 2\n",
    "print(mylist[2]) # prints 3\n",
    "\n",
    "# prints out 1,2,3\n",
    "for x in mylist:\n",
    "    print(x)"
   ]
  },
  {
   "cell_type": "code",
   "execution_count": 6,
   "metadata": {},
   "outputs": [
    {
     "ename": "IndexError",
     "evalue": "list index out of range",
     "output_type": "error",
     "traceback": [
      "\u001b[1;31m---------------------------------------------------------------------------\u001b[0m",
      "\u001b[1;31mIndexError\u001b[0m                                Traceback (most recent call last)",
      "\u001b[1;32m<ipython-input-6-ac9eeac6db06>\u001b[0m in \u001b[0;36m<module>\u001b[1;34m\u001b[0m\n\u001b[0;32m      1\u001b[0m \u001b[0mmylist\u001b[0m \u001b[1;33m=\u001b[0m \u001b[1;33m[\u001b[0m\u001b[1;36m1\u001b[0m\u001b[1;33m,\u001b[0m\u001b[1;36m2\u001b[0m\u001b[1;33m,\u001b[0m\u001b[1;36m3\u001b[0m\u001b[1;33m]\u001b[0m\u001b[1;33m\u001b[0m\u001b[1;33m\u001b[0m\u001b[0m\n\u001b[1;32m----> 2\u001b[1;33m \u001b[0mprint\u001b[0m\u001b[1;33m(\u001b[0m\u001b[0mmylist\u001b[0m\u001b[1;33m[\u001b[0m\u001b[1;36m10\u001b[0m\u001b[1;33m]\u001b[0m\u001b[1;33m)\u001b[0m\u001b[1;33m\u001b[0m\u001b[1;33m\u001b[0m\u001b[0m\n\u001b[0m",
      "\u001b[1;31mIndexError\u001b[0m: list index out of range"
     ]
    }
   ],
   "source": [
    "mylist = [1,2,3]\n",
    "print(mylist[10])"
   ]
  },
  {
   "cell_type": "code",
   "execution_count": 7,
   "metadata": {},
   "outputs": [
    {
     "name": "stdout",
     "output_type": "stream",
     "text": [
      "{'John': 938477566, 'Jack': 938377264, 'Jill': 947662781}\n"
     ]
    }
   ],
   "source": [
    "#Dictionary:\n",
    "phonebook = {}\n",
    "phonebook[\"John\"] = 938477566\n",
    "phonebook[\"Jack\"] = 938377264\n",
    "phonebook[\"Jill\"] = 947662781\n",
    "print(phonebook)"
   ]
  },
  {
   "cell_type": "code",
   "execution_count": 8,
   "metadata": {},
   "outputs": [
    {
     "name": "stdout",
     "output_type": "stream",
     "text": [
      "{'Jack': 938377264, 'Jill': 947662781}\n"
     ]
    }
   ],
   "source": [
    "phonebook = {\n",
    "   \"John\" : 938477566,\n",
    "   \"Jack\" : 938377264,\n",
    "   \"Jill\" : 947662781\n",
    "}\n",
    "del phonebook[\"John\"]\n",
    "print(phonebook)"
   ]
  },
  {
   "cell_type": "code",
   "execution_count": 9,
   "metadata": {},
   "outputs": [
    {
     "data": {
      "text/plain": [
       "'welcome'"
      ]
     },
     "execution_count": 9,
     "metadata": {},
     "output_type": "execute_result"
    }
   ],
   "source": [
    "#Touples\":\n",
    "t1 = ('Hello', 'welcome', 1, 2)\n",
    "t2 = (1, 2, 3, 4, 5 )\n",
    "t3 = (\"a\", \"b\", \"c\", \"d\")\n",
    "tup1 = (\"hi\",)\n",
    "t1[1]"
   ]
  },
  {
   "cell_type": "code",
   "execution_count": 12,
   "metadata": {},
   "outputs": [
    {
     "name": "stdout",
     "output_type": "stream",
     "text": [
      "Hello From My Function!\n",
      "Hello, John Doe , From My Function!, I wish you a great year!\n"
     ]
    }
   ],
   "source": [
    "#Functions:\n",
    "def my_function():\n",
    "    print(\"Hello From My Function!\")\n",
    "\n",
    "def my_function_with_args(username, greeting):\n",
    "    print(\"Hello, %s , From My Function!, I wish you %s\"%(username, greeting))\n",
    "\n",
    "def sum_two_numbers(a, b):\n",
    "    return a + b\n",
    "\n",
    "# print(a simple greeting)\n",
    "my_function()\n",
    "\n",
    "#prints - \"Hello, John Doe, From My Function!, I wish you a great year!\"\n",
    "my_function_with_args(\"John Doe\", \"a great year!\")\n",
    "\n",
    "# after this line x will hold the value 3!\n",
    "x = sum_two_numbers(1,2)"
   ]
  },
  {
   "cell_type": "code",
   "execution_count": 13,
   "metadata": {},
   "outputs": [
    {
     "data": {
      "text/plain": [
       "3.0"
      ]
     },
     "execution_count": 13,
     "metadata": {},
     "output_type": "execute_result"
    }
   ],
   "source": [
    "def avg(a,b,c):\n",
    "    sums=a+b+c\n",
    "    average= sums/3\n",
    "    return average\n",
    "avg(2,3,4)"
   ]
  },
  {
   "cell_type": "code",
   "execution_count": 12,
   "metadata": {},
   "outputs": [
    {
     "name": "stdout",
     "output_type": "stream",
     "text": [
      "Ummmm, my favorite!\n"
     ]
    }
   ],
   "source": [
    "#Conditioning and looping\n",
    "#IF Else Statment:\n",
    "food = 'spam'\n",
    "if food == 'spam':\n",
    "    print('Ummmm, my favorite!')\n",
    "else:\n",
    "    print(\"No, I won't have it. I want spam!\")\n"
   ]
  },
  {
   "cell_type": "code",
   "execution_count": 17,
   "metadata": {},
   "outputs": [
    {
     "name": "stdout",
     "output_type": "stream",
     "text": [
      "My name is Pranjal\n",
      "My name is Pranjal\n",
      "My name is Pranjal\n"
     ]
    }
   ],
   "source": [
    "# while loop\n",
    "count = 0\n",
    "while (count < 3):    \n",
    "    count = count + 1\n",
    "    print(\"My name is Pranjal\")\n"
   ]
  },
  {
   "cell_type": "code",
   "execution_count": 19,
   "metadata": {},
   "outputs": [
    {
     "name": "stdout",
     "output_type": "stream",
     "text": [
      "apple\n",
      "orange\n",
      "kiwi\n"
     ]
    }
   ],
   "source": [
    "#For loop:\n",
    "fruits = [\"apple\", \"orange\", \"kiwi\"]\n",
    " \n",
    "for fruit in fruits:\n",
    " \n",
    " print(fruit)"
   ]
  },
  {
   "cell_type": "code",
   "execution_count": 18,
   "metadata": {},
   "outputs": [
    {
     "name": "stdout",
     "output_type": "stream",
     "text": [
      "1 \n",
      "2 2 \n",
      "3 3 3 \n",
      "4 4 4 4 \n"
     ]
    }
   ],
   "source": [
    "# nested for loops in Python\n",
    "from __future__ import print_function\n",
    "for i in range(1, 5):\n",
    "    for j in range(i):\n",
    "         print(i, end=' ')\n",
    "    print()"
   ]
  },
  {
   "cell_type": "code",
   "execution_count": 10,
   "metadata": {},
   "outputs": [
    {
     "name": "stdout",
     "output_type": "stream",
     "text": [
      "Pranjal\n"
     ]
    }
   ],
   "source": [
    "#How to define class and Objects:\n",
    "class MyClass:\n",
    "    variable = \"Pranjal\"\n",
    "\n",
    "    def function(self):\n",
    "        print(\"This is a message inside the class.\")\n",
    "myobjectx = MyClass()\n",
    "\n",
    "print(myobjectx.variable)       "
   ]
  },
  {
   "cell_type": "code",
   "execution_count": 21,
   "metadata": {},
   "outputs": [
    {
     "name": "stdout",
     "output_type": "stream",
     "text": [
      "This is a message inside the class.\n"
     ]
    }
   ],
   "source": [
    "#Accessing Object Functions\":\n",
    "class MyClass:\n",
    "    variable = \"Pranjal\"\n",
    "\n",
    "    def function(self):\n",
    "        print(\"This is a message inside the class.\")\n",
    "\n",
    "myobjectx = MyClass()\n",
    "\n",
    "myobjectx.function()"
   ]
  },
  {
   "cell_type": "code",
   "execution_count": 22,
   "metadata": {},
   "outputs": [
    {
     "name": "stdout",
     "output_type": "stream",
     "text": [
      "Calling child constructor\n",
      "Calling child method\n",
      "Calling parent method\n",
      "Parent attribute : 200\n"
     ]
    }
   ],
   "source": [
    "#Class Inheritance:\n",
    "class Parent:        # define parent class\n",
    "   parentAttr = 100\n",
    "   def __init__(self):\n",
    "      print (\"Calling parent constructor\")\n",
    "\n",
    "   def parentMethod(self):\n",
    "      print ('Calling parent method')\n",
    "\n",
    "   def setAttr(self, attr):\n",
    "      Parent.parentAttr = attr\n",
    "\n",
    "   def getAttr(self):\n",
    "      print (\"Parent attribute :\", Parent.parentAttr)\n",
    "\n",
    "class Child(Parent): # define child class\n",
    "   def __init__(self):\n",
    "      print (\"Calling child constructor\")\n",
    "\n",
    "   def childMethod(self):\n",
    "      print ('Calling child method')\n",
    "\n",
    "c = Child()          # instance of child\n",
    "c.childMethod()      # child calls its method\n",
    "c.parentMethod()     # calls parent's method\n",
    "c.setAttr(200)       # again call parent's method\n",
    "c.getAttr()          # again call parent's method"
   ]
  },
  {
   "cell_type": "code",
   "execution_count": null,
   "metadata": {},
   "outputs": [],
   "source": []
  }
 ],
 "metadata": {
  "kernelspec": {
   "display_name": "Python 3",
   "language": "python",
   "name": "python3"
  },
  "language_info": {
   "codemirror_mode": {
    "name": "ipython",
    "version": 3
   },
   "file_extension": ".py",
   "mimetype": "text/x-python",
   "name": "python",
   "nbconvert_exporter": "python",
   "pygments_lexer": "ipython3",
   "version": "3.7.3"
  }
 },
 "nbformat": 4,
 "nbformat_minor": 2
}
